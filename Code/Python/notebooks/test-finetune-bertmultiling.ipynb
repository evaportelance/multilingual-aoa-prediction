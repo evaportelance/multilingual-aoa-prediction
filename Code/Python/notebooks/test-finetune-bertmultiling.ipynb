{
 "cells": [
  {
   "cell_type": "code",
   "execution_count": 2,
   "id": "cdd5144e",
   "metadata": {},
   "outputs": [],
   "source": [
    "import sys\n",
    "sys.path.append(\"..\")"
   ]
  },
  {
   "cell_type": "code",
   "execution_count": 28,
   "id": "76bd9457",
   "metadata": {},
   "outputs": [
    {
     "name": "stdout",
     "output_type": "stream",
     "text": [
      "Fri Aug 27 08:50:54 2021       \r\n",
      "+-----------------------------------------------------------------------------+\r\n",
      "| NVIDIA-SMI 455.23.04    Driver Version: 455.23.04    CUDA Version: 11.1     |\r\n",
      "|-------------------------------+----------------------+----------------------+\r\n",
      "| GPU  Name        Persistence-M| Bus-Id        Disp.A | Volatile Uncorr. ECC |\r\n",
      "| Fan  Temp  Perf  Pwr:Usage/Cap|         Memory-Usage | GPU-Util  Compute M. |\r\n",
      "|                               |                      |               MIG M. |\r\n",
      "|===============================+======================+======================|\r\n",
      "|   0  GeForce RTX 3080    Off  | 00000000:01:00.0 Off |                  N/A |\r\n",
      "| 30%   31C    P8    11W / 320W |   9689MiB / 10015MiB |      0%      Default |\r\n",
      "|                               |                      |                  N/A |\r\n",
      "+-------------------------------+----------------------+----------------------+\r\n",
      "                                                                               \r\n",
      "+-----------------------------------------------------------------------------+\r\n",
      "| Processes:                                                                  |\r\n",
      "|  GPU   GI   CI        PID   Type   Process name                  GPU Memory |\r\n",
      "|        ID   ID                                                   Usage      |\r\n",
      "|=============================================================================|\r\n",
      "|    0   N/A  N/A       773      G   /usr/lib/xorg/Xorg                 56MiB |\r\n",
      "|    0   N/A  N/A       986      G   /usr/bin/gnome-shell               13MiB |\r\n",
      "|    0   N/A  N/A     28955      C   ...nda3/envs/py38/bin/python     9615MiB |\r\n",
      "+-----------------------------------------------------------------------------+\r\n"
     ]
    }
   ],
   "source": [
    "!nvidia-smi"
   ]
  },
  {
   "cell_type": "code",
   "execution_count": 3,
   "id": "f3c4780d",
   "metadata": {},
   "outputs": [],
   "source": [
    "import argparse\n",
    "import os\n",
    "import torch\n",
    "from torch.utils.data import DataLoader\n",
    "import torch.nn.functional as F\n",
    "from transformers import BertLMHeadModel, AdamW\n",
    "from stats import AverageMeterSet, StatTracker\n",
    "from bert_custom_dataset import CHILDESDataset\n",
    "from utils import save_pkl"
   ]
  },
  {
   "cell_type": "code",
   "execution_count": 4,
   "id": "6f44d35d",
   "metadata": {},
   "outputs": [],
   "source": [
    "train_path='../../../Data/model_datasets/eng/train.txt'\n",
    "val_path='../../../Data/model_datasets/eng/validation.txt'\n",
    "result_dir='./'\n",
    "experiment_name='test_finetune'\n",
    "lr='5e-5'\n",
    "batch_size=1\n",
    "n_epochs=5\n",
    "seed=0\n",
    "patience=5"
   ]
  },
  {
   "cell_type": "code",
   "execution_count": 5,
   "id": "503a5471",
   "metadata": {},
   "outputs": [],
   "source": [
    "def test_finetuned_model(model, dataloader, device, stat_tracker, epoch=1, prefix='test'):\n",
    "    model.eval()\n",
    "    test_stats = AverageMeterSet()\n",
    "    batch_size = dataloader.batch_size\n",
    "    for batch in dataloader:\n",
    "        for key in batch:\n",
    "            batch[key] = batch[key].to(device)\n",
    "        labels = batch['labels']\n",
    "        outputs = model(**batch)\n",
    "        predictions = F.log_softmax(outputs.logits, -1)\n",
    "        n_matches = torch.eq(torch.argmax(predictions, dim = -1), labels).int()\n",
    "        max_sequence_len = list(n_matches.size())[1]\n",
    "        avg_sequence_accs = torch.sum(n_matches, 1)/max_sequence_len\n",
    "        batch_accuracy = float((torch.sum(avg_sequence_accs, 0)/avg_sequence_accs.size()[0]).item())\n",
    "        test_stats.update('accuracy', batch_accuracy, n=1)\n",
    "    stat_tracker.record_stats(test_stats.averages(epoch, prefix=prefix))\n",
    "\n",
    "    return test_stats.avgs['accuracy']"
   ]
  },
  {
   "cell_type": "code",
   "execution_count": 6,
   "id": "7ed0b1ca",
   "metadata": {},
   "outputs": [],
   "source": [
    "def finetune_model(model, train_dataloader, val_dataloader, device, stat_tracker, n_epochs=5, lr=5e-5):\n",
    "    optimizer = AdamW(model.parameters(), lr)\n",
    "    for epoch in range(n_epochs):\n",
    "        model.train()\n",
    "        epoch_stats = AverageMeterSet()\n",
    "        for step,batch in enumerate(train_dataloader):\n",
    "            print(step)\n",
    "            optimizer.zero_grad()\n",
    "            for key in batch:\n",
    "                batch[key] = batch[key].to(device)\n",
    "            outputs = model(**batch)\n",
    "            ##get train accuracy\n",
    "            predictions = F.log_softmax(outputs.logits, -1)\n",
    "            n_matches = torch.eq(torch.argmax(predictions, dim = -1), batch['labels']).int()\n",
    "            max_sequence_len = list(n_matches.size())[1]\n",
    "            avg_sequence_accs = torch.sum(n_matches, 1)/max_sequence_len\n",
    "            batch_accuracy = float((torch.sum(avg_sequence_accs, 0)/avg_sequence_accs.size()[0]).item())\n",
    "            epoch_stats.update('accuracy', batch_accuracy, n=1)\n",
    "            ## get loss\n",
    "            loss = outputs[0]\n",
    "            loss.backward()\n",
    "            optimizer.step()\n",
    "            epoch_stats.update('loss', float(loss), n=1)\n",
    "        val_accuracy = test_finetuned_model(model, val_dataloader, device, stat_tracker, epoch, prefix=\"val\")\n",
    "        stat_tracker.record_stats(epoch_stats.averages(epoch, prefix=\"train\"))\n",
    "        print(str(epoch))\n",
    "        print(\"train acc: \"+ str(epoch_stats.avgs['accuracy']))\n",
    "        print(\"val acc: \"+ str(val_accuracy))\n",
    "        print(\"loss :\"+ str(epoch_stats.avgs['loss']))\n",
    "        \n",
    "    return model"
   ]
  },
  {
   "cell_type": "code",
   "execution_count": 7,
   "id": "7765a630",
   "metadata": {},
   "outputs": [
    {
     "data": {
      "text/plain": [
       "<torch._C.Generator at 0x7fb00c0522d0>"
      ]
     },
     "execution_count": 7,
     "metadata": {},
     "output_type": "execute_result"
    }
   ],
   "source": [
    "experiment_dir = os.path.join(result_dir, experiment_name)\n",
    "os.makedirs(experiment_dir, exist_ok=True)\n",
    "#save_pkl(experiment_dir, vars(args), \"hyperparameters.pkl\")\n",
    "torch.manual_seed(seed)"
   ]
  },
  {
   "cell_type": "code",
   "execution_count": 8,
   "id": "9ed9ac91",
   "metadata": {},
   "outputs": [
    {
     "name": "stderr",
     "output_type": "stream",
     "text": [
      "Some weights of the model checkpoint at bert-base-multilingual-uncased were not used when initializing BertLMHeadModel: ['cls.seq_relationship.bias', 'cls.seq_relationship.weight']\n",
      "- This IS expected if you are initializing BertLMHeadModel from the checkpoint of a model trained on another task or with another architecture (e.g. initializing a BertForSequenceClassification model from a BertForPreTraining model).\n",
      "- This IS NOT expected if you are initializing BertLMHeadModel from the checkpoint of a model that you expect to be exactly identical (initializing a BertForSequenceClassification model from a BertForSequenceClassification model).\n"
     ]
    }
   ],
   "source": [
    "device = torch.device('cuda')\n",
    "torch.cuda.empty_cache()\n",
    "model = BertLMHeadModel.from_pretrained(\"bert-base-multilingual-uncased\", return_dict=True, is_decoder = True)\n",
    "model = model.to(device)"
   ]
  },
  {
   "cell_type": "code",
   "execution_count": 26,
   "id": "41b248ce",
   "metadata": {},
   "outputs": [
    {
     "name": "stdout",
     "output_type": "stream",
     "text": [
      "Fri Aug 27 08:49:45 2021       \r\n",
      "+-----------------------------------------------------------------------------+\r\n",
      "| NVIDIA-SMI 455.23.04    Driver Version: 455.23.04    CUDA Version: 11.1     |\r\n",
      "|-------------------------------+----------------------+----------------------+\r\n",
      "| GPU  Name        Persistence-M| Bus-Id        Disp.A | Volatile Uncorr. ECC |\r\n",
      "| Fan  Temp  Perf  Pwr:Usage/Cap|         Memory-Usage | GPU-Util  Compute M. |\r\n",
      "|                               |                      |               MIG M. |\r\n",
      "|===============================+======================+======================|\r\n",
      "|   0  GeForce RTX 3080    Off  | 00000000:01:00.0 Off |                  N/A |\r\n",
      "| 30%   34C    P8    10W / 320W |   7237MiB / 10015MiB |      0%      Default |\r\n",
      "|                               |                      |                  N/A |\r\n",
      "+-------------------------------+----------------------+----------------------+\r\n",
      "                                                                               \r\n",
      "+-----------------------------------------------------------------------------+\r\n",
      "| Processes:                                                                  |\r\n",
      "|  GPU   GI   CI        PID   Type   Process name                  GPU Memory |\r\n",
      "|        ID   ID                                                   Usage      |\r\n",
      "|=============================================================================|\r\n",
      "|    0   N/A  N/A       773      G   /usr/lib/xorg/Xorg                 56MiB |\r\n",
      "|    0   N/A  N/A       986      G   /usr/bin/gnome-shell               13MiB |\r\n",
      "|    0   N/A  N/A     28955      C   ...nda3/envs/py38/bin/python     7163MiB |\r\n",
      "+-----------------------------------------------------------------------------+\r\n"
     ]
    }
   ],
   "source": [
    "!nvidia-smi"
   ]
  },
  {
   "cell_type": "code",
   "execution_count": 11,
   "id": "67adf307",
   "metadata": {},
   "outputs": [],
   "source": [
    "#100 max length (can be reduced if needed)\n",
    "train_dataset = CHILDESDataset(train_path)\n",
    "val_dataset = CHILDESDataset(val_path)"
   ]
  },
  {
   "cell_type": "code",
   "execution_count": 25,
   "id": "5d7abfaa",
   "metadata": {},
   "outputs": [],
   "source": [
    "torch.cuda.empty_cache()"
   ]
  },
  {
   "cell_type": "code",
   "execution_count": 21,
   "id": "c404356c",
   "metadata": {},
   "outputs": [],
   "source": [
    "train_dl = DataLoader(train_dataset, batch_size=6,shuffle=True)\n",
    "val_dl = DataLoader(val_dataset, batch_size=6,shuffle=True)"
   ]
  },
  {
   "cell_type": "code",
   "execution_count": 13,
   "id": "d05528fe",
   "metadata": {},
   "outputs": [
    {
     "name": "stdout",
     "output_type": "stream",
     "text": [
      "log_dir: ./test_finetune/tensorboard-log\n"
     ]
    }
   ],
   "source": [
    "stat_tracker = StatTracker(log_dir=os.path.join(experiment_dir,\"tensorboard-log\"))"
   ]
  },
  {
   "cell_type": "code",
   "execution_count": 22,
   "id": "1f608784",
   "metadata": {},
   "outputs": [
    {
     "data": {
      "text/plain": [
       "293268"
      ]
     },
     "execution_count": 22,
     "metadata": {},
     "output_type": "execute_result"
    }
   ],
   "source": [
    "len(train_dl)"
   ]
  },
  {
   "cell_type": "code",
   "execution_count": 23,
   "id": "d7b9fbb4",
   "metadata": {},
   "outputs": [
    {
     "data": {
      "text/plain": [
       "73263"
      ]
     },
     "execution_count": 23,
     "metadata": {},
     "output_type": "execute_result"
    }
   ],
   "source": [
    "len(val_dl)"
   ]
  },
  {
   "cell_type": "code",
   "execution_count": 27,
   "id": "5494c021",
   "metadata": {},
   "outputs": [
    {
     "name": "stdout",
     "output_type": "stream",
     "text": [
      "0\n"
     ]
    },
    {
     "ename": "RuntimeError",
     "evalue": "CUDA out of memory. Tried to allocate 486.00 MiB (GPU 0; 9.78 GiB total capacity; 7.82 GiB already allocated; 325.88 MiB free; 7.96 GiB reserved in total by PyTorch)",
     "output_type": "error",
     "traceback": [
      "\u001b[0;31m---------------------------------------------------------------------------\u001b[0m",
      "\u001b[0;31mRuntimeError\u001b[0m                              Traceback (most recent call last)",
      "\u001b[0;32m<ipython-input-27-255b041b5f71>\u001b[0m in \u001b[0;36m<module>\u001b[0;34m\u001b[0m\n\u001b[0;32m----> 1\u001b[0;31m \u001b[0mmodel\u001b[0m \u001b[0;34m=\u001b[0m \u001b[0mfinetune_model\u001b[0m\u001b[0;34m(\u001b[0m\u001b[0mmodel\u001b[0m\u001b[0;34m,\u001b[0m \u001b[0mtrain_dl\u001b[0m\u001b[0;34m,\u001b[0m \u001b[0mval_dl\u001b[0m\u001b[0;34m,\u001b[0m \u001b[0mdevice\u001b[0m\u001b[0;34m,\u001b[0m \u001b[0mstat_tracker\u001b[0m\u001b[0;34m,\u001b[0m \u001b[0mn_epochs\u001b[0m\u001b[0;34m=\u001b[0m\u001b[0;36m1\u001b[0m\u001b[0;34m,\u001b[0m \u001b[0mlr\u001b[0m\u001b[0;34m=\u001b[0m\u001b[0;36m5e-5\u001b[0m\u001b[0;34m)\u001b[0m\u001b[0;34m\u001b[0m\u001b[0;34m\u001b[0m\u001b[0m\n\u001b[0m",
      "\u001b[0;32m<ipython-input-6-4a47b85a9982>\u001b[0m in \u001b[0;36mfinetune_model\u001b[0;34m(model, train_dataloader, val_dataloader, device, stat_tracker, n_epochs, lr)\u001b[0m\n\u001b[1;32m     11\u001b[0m             \u001b[0moutputs\u001b[0m \u001b[0;34m=\u001b[0m \u001b[0mmodel\u001b[0m\u001b[0;34m(\u001b[0m\u001b[0;34m**\u001b[0m\u001b[0mbatch\u001b[0m\u001b[0;34m)\u001b[0m\u001b[0;34m\u001b[0m\u001b[0;34m\u001b[0m\u001b[0m\n\u001b[1;32m     12\u001b[0m             \u001b[0;31m##get train accuracy\u001b[0m\u001b[0;34m\u001b[0m\u001b[0;34m\u001b[0m\u001b[0;34m\u001b[0m\u001b[0m\n\u001b[0;32m---> 13\u001b[0;31m             \u001b[0mpredictions\u001b[0m \u001b[0;34m=\u001b[0m \u001b[0mF\u001b[0m\u001b[0;34m.\u001b[0m\u001b[0mlog_softmax\u001b[0m\u001b[0;34m(\u001b[0m\u001b[0moutputs\u001b[0m\u001b[0;34m.\u001b[0m\u001b[0mlogits\u001b[0m\u001b[0;34m,\u001b[0m \u001b[0;34m-\u001b[0m\u001b[0;36m1\u001b[0m\u001b[0;34m)\u001b[0m\u001b[0;34m\u001b[0m\u001b[0;34m\u001b[0m\u001b[0m\n\u001b[0m\u001b[1;32m     14\u001b[0m             \u001b[0mn_matches\u001b[0m \u001b[0;34m=\u001b[0m \u001b[0mtorch\u001b[0m\u001b[0;34m.\u001b[0m\u001b[0meq\u001b[0m\u001b[0;34m(\u001b[0m\u001b[0mtorch\u001b[0m\u001b[0;34m.\u001b[0m\u001b[0margmax\u001b[0m\u001b[0;34m(\u001b[0m\u001b[0mpredictions\u001b[0m\u001b[0;34m,\u001b[0m \u001b[0mdim\u001b[0m \u001b[0;34m=\u001b[0m \u001b[0;34m-\u001b[0m\u001b[0;36m1\u001b[0m\u001b[0;34m)\u001b[0m\u001b[0;34m,\u001b[0m \u001b[0mbatch\u001b[0m\u001b[0;34m[\u001b[0m\u001b[0;34m'labels'\u001b[0m\u001b[0;34m]\u001b[0m\u001b[0;34m)\u001b[0m\u001b[0;34m.\u001b[0m\u001b[0mint\u001b[0m\u001b[0;34m(\u001b[0m\u001b[0;34m)\u001b[0m\u001b[0;34m\u001b[0m\u001b[0;34m\u001b[0m\u001b[0m\n\u001b[1;32m     15\u001b[0m             \u001b[0mmax_sequence_len\u001b[0m \u001b[0;34m=\u001b[0m \u001b[0mlist\u001b[0m\u001b[0;34m(\u001b[0m\u001b[0mn_matches\u001b[0m\u001b[0;34m.\u001b[0m\u001b[0msize\u001b[0m\u001b[0;34m(\u001b[0m\u001b[0;34m)\u001b[0m\u001b[0;34m)\u001b[0m\u001b[0;34m[\u001b[0m\u001b[0;36m1\u001b[0m\u001b[0;34m]\u001b[0m\u001b[0;34m\u001b[0m\u001b[0;34m\u001b[0m\u001b[0m\n",
      "\u001b[0;32m~/anaconda3/envs/py38/lib/python3.8/site-packages/torch/nn/functional.py\u001b[0m in \u001b[0;36mlog_softmax\u001b[0;34m(input, dim, _stacklevel, dtype)\u001b[0m\n\u001b[1;32m   1670\u001b[0m         \u001b[0mdim\u001b[0m \u001b[0;34m=\u001b[0m \u001b[0m_get_softmax_dim\u001b[0m\u001b[0;34m(\u001b[0m\u001b[0;34m\"log_softmax\"\u001b[0m\u001b[0;34m,\u001b[0m \u001b[0minput\u001b[0m\u001b[0;34m.\u001b[0m\u001b[0mdim\u001b[0m\u001b[0;34m(\u001b[0m\u001b[0;34m)\u001b[0m\u001b[0;34m,\u001b[0m \u001b[0m_stacklevel\u001b[0m\u001b[0;34m)\u001b[0m\u001b[0;34m\u001b[0m\u001b[0;34m\u001b[0m\u001b[0m\n\u001b[1;32m   1671\u001b[0m     \u001b[0;32mif\u001b[0m \u001b[0mdtype\u001b[0m \u001b[0;32mis\u001b[0m \u001b[0;32mNone\u001b[0m\u001b[0;34m:\u001b[0m\u001b[0;34m\u001b[0m\u001b[0;34m\u001b[0m\u001b[0m\n\u001b[0;32m-> 1672\u001b[0;31m         \u001b[0mret\u001b[0m \u001b[0;34m=\u001b[0m \u001b[0minput\u001b[0m\u001b[0;34m.\u001b[0m\u001b[0mlog_softmax\u001b[0m\u001b[0;34m(\u001b[0m\u001b[0mdim\u001b[0m\u001b[0;34m)\u001b[0m\u001b[0;34m\u001b[0m\u001b[0;34m\u001b[0m\u001b[0m\n\u001b[0m\u001b[1;32m   1673\u001b[0m     \u001b[0;32melse\u001b[0m\u001b[0;34m:\u001b[0m\u001b[0;34m\u001b[0m\u001b[0;34m\u001b[0m\u001b[0m\n\u001b[1;32m   1674\u001b[0m         \u001b[0mret\u001b[0m \u001b[0;34m=\u001b[0m \u001b[0minput\u001b[0m\u001b[0;34m.\u001b[0m\u001b[0mlog_softmax\u001b[0m\u001b[0;34m(\u001b[0m\u001b[0mdim\u001b[0m\u001b[0;34m,\u001b[0m \u001b[0mdtype\u001b[0m\u001b[0;34m=\u001b[0m\u001b[0mdtype\u001b[0m\u001b[0;34m)\u001b[0m\u001b[0;34m\u001b[0m\u001b[0;34m\u001b[0m\u001b[0m\n",
      "\u001b[0;31mRuntimeError\u001b[0m: CUDA out of memory. Tried to allocate 486.00 MiB (GPU 0; 9.78 GiB total capacity; 7.82 GiB already allocated; 325.88 MiB free; 7.96 GiB reserved in total by PyTorch)"
     ]
    }
   ],
   "source": [
    "model = finetune_model(model, train_dl, val_dl, device, stat_tracker, n_epochs=1, lr=5e-5)"
   ]
  },
  {
   "cell_type": "code",
   "execution_count": null,
   "id": "20b486c2",
   "metadata": {},
   "outputs": [],
   "source": [
    "    args = get_args()\n",
    "    experiment_dir = os.path.join(args.result_dir, args.experiment_name)\n",
    "    os.makedirs(experiment_dir, exist_ok=True)\n",
    "    save_pkl(experiment_dir, vars(args), \"hyperparameters.pkl\")\n",
    "    torch.manual_seed(args.seed)\n",
    "\n",
    "    device = torch.device('cuda') if torch.cuda.is_available() else torch.device('cpu')\n",
    "    torch.cuda.empty_cache()\n",
    "    model = BertLMHeadModel.from_pretrained(\"bert-base-multilingual-uncased\", return_dict=True, is_decoder = True)\n",
    "    model = model.to(device)\n",
    "\n",
    "    train_dataset = CHILDESDataset(args.train_path)\n",
    "    train_dl = DataLoader(train_dataset, batch_size=args.batch_size,shuffle=True)\n",
    "    val_dataset = CHILDESDataset(args.val_path)\n",
    "    val_dl = DataLoader(val_dataset, batch_size=args.batch_size,shuffle=True)\n",
    "\n",
    "    stat_tracker = StatTracker(log_dir=os.path.join(experiment_dir,\"tensorboard-log\"))\n",
    "\n",
    "    model = finetune_model(model, train_dl, val_dl, device, stat_tracker, args.n_epochs, args.lr)\n",
    "\n",
    "    torch.save(model, os.path.join(experiment_dir,\"model.pt\"))"
   ]
  }
 ],
 "metadata": {
  "kernelspec": {
   "display_name": "Python 3",
   "language": "python",
   "name": "python3"
  },
  "language_info": {
   "codemirror_mode": {
    "name": "ipython",
    "version": 3
   },
   "file_extension": ".py",
   "mimetype": "text/x-python",
   "name": "python",
   "nbconvert_exporter": "python",
   "pygments_lexer": "ipython3",
   "version": "3.8.8"
  }
 },
 "nbformat": 4,
 "nbformat_minor": 5
}
